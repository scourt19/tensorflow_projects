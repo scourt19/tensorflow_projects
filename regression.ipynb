{
  "nbformat": 4,
  "nbformat_minor": 0,
  "metadata": {
    "colab": {
      "provenance": [],
      "collapsed_sections": [
        "1mKcIKSKX0Ch",
        "dhT9AmS2a5KL",
        "IiRw0nVseiNb"
      ],
      "name": "regression.ipynb"
    },
    "kernelspec": {
      "name": "python3",
      "display_name": "Python 3"
    },
    "language_info": {
      "name": "python"
    },
    "accelerator": "GPU",
    "gpuClass": "standard"
  },
  "cells": [
    {
      "cell_type": "markdown",
      "source": [
        "# Regression using tensorflow\n",
        "Here I used a dataset containing information about houses and I predicted the price of the house using different regression techniques such as **linear regression** and using a **DNN**."
      ],
      "metadata": {
        "id": "01NwwbvOBfa_"
      }
    },
    {
      "cell_type": "code",
      "execution_count": null,
      "metadata": {
        "id": "smY4aZ_nWwgo"
      },
      "outputs": [],
      "source": [
        "import numpy as np\n",
        "import pandas as pd\n",
        "import tensorflow as tf\n",
        "from tensorflow import keras\n",
        "from keras import layers\n",
        "import matplotlib.pyplot as plt"
      ]
    },
    {
      "cell_type": "markdown",
      "source": [
        "Functions to help with plotting graphs."
      ],
      "metadata": {
        "id": "GpnJFpFtFWFB"
      }
    },
    {
      "cell_type": "code",
      "source": [
        "def plot_loss(history):\n",
        "  plt.plot(history.history['loss'], label='loss')\n",
        "  plt.plot(history.history['val_loss'], label='val_loss')\n",
        "  plt.ylim([0,20])\n",
        "  plt.xlabel('Epoch')\n",
        "  plt.ylabel('Error [Price]')\n",
        "  plt.legend()\n",
        "\n",
        "def plot_predictions(model):\n",
        "  x = tf.linspace(24.93, 25.01, 80)\n",
        "  y = model.predict(x)\n",
        "  plt.scatter(train_features['X5 latitude'], train_labels, label='Data')\n",
        "  plt.plot(x, y, color='k', label='Predictions')\n",
        "  plt.xlabel('Distance to the nearest MRT station')\n",
        "  plt.ylabel('Price of house')"
      ],
      "metadata": {
        "id": "n-bdt59tFLwH"
      },
      "execution_count": null,
      "outputs": []
    },
    {
      "cell_type": "markdown",
      "source": [
        "### Setting up an input pipeline\n",
        "Creating a train and test dataset from the original dataset."
      ],
      "metadata": {
        "id": "jpz3r2XNEAWh"
      }
    },
    {
      "cell_type": "code",
      "source": [
        "df = pd.read_csv('Data/Real estate.csv')\n",
        "df = df.set_index('No')\n",
        "df.head()"
      ],
      "metadata": {
        "colab": {
          "base_uri": "https://localhost:8080/",
          "height": 364
        },
        "id": "MXguOdkqlTnC",
        "outputId": "e2e8793f-b3f6-4bc0-f70a-13bd72cd9ec4"
      },
      "execution_count": null,
      "outputs": [
        {
          "output_type": "execute_result",
          "data": {
            "text/plain": [
              "    X1 transaction date  X2 house age  X3 distance to the nearest MRT station  \\\n",
              "No                                                                              \n",
              "1              2012.917          32.0                                84.87882   \n",
              "2              2012.917          19.5                               306.59470   \n",
              "3              2013.583          13.3                               561.98450   \n",
              "4              2013.500          13.3                               561.98450   \n",
              "5              2012.833           5.0                               390.56840   \n",
              "\n",
              "    X4 number of convenience stores  X5 latitude  X6 longitude  \\\n",
              "No                                                               \n",
              "1                                10     24.98298     121.54024   \n",
              "2                                 9     24.98034     121.53951   \n",
              "3                                 5     24.98746     121.54391   \n",
              "4                                 5     24.98746     121.54391   \n",
              "5                                 5     24.97937     121.54245   \n",
              "\n",
              "    Y house price of unit area  \n",
              "No                              \n",
              "1                         37.9  \n",
              "2                         42.2  \n",
              "3                         47.3  \n",
              "4                         54.8  \n",
              "5                         43.1  "
            ],
            "text/html": [
              "\n",
              "  <div id=\"df-c7304dce-5c47-4d6c-8d9a-386d98d247c5\">\n",
              "    <div class=\"colab-df-container\">\n",
              "      <div>\n",
              "<style scoped>\n",
              "    .dataframe tbody tr th:only-of-type {\n",
              "        vertical-align: middle;\n",
              "    }\n",
              "\n",
              "    .dataframe tbody tr th {\n",
              "        vertical-align: top;\n",
              "    }\n",
              "\n",
              "    .dataframe thead th {\n",
              "        text-align: right;\n",
              "    }\n",
              "</style>\n",
              "<table border=\"1\" class=\"dataframe\">\n",
              "  <thead>\n",
              "    <tr style=\"text-align: right;\">\n",
              "      <th></th>\n",
              "      <th>X1 transaction date</th>\n",
              "      <th>X2 house age</th>\n",
              "      <th>X3 distance to the nearest MRT station</th>\n",
              "      <th>X4 number of convenience stores</th>\n",
              "      <th>X5 latitude</th>\n",
              "      <th>X6 longitude</th>\n",
              "      <th>Y house price of unit area</th>\n",
              "    </tr>\n",
              "    <tr>\n",
              "      <th>No</th>\n",
              "      <th></th>\n",
              "      <th></th>\n",
              "      <th></th>\n",
              "      <th></th>\n",
              "      <th></th>\n",
              "      <th></th>\n",
              "      <th></th>\n",
              "    </tr>\n",
              "  </thead>\n",
              "  <tbody>\n",
              "    <tr>\n",
              "      <th>1</th>\n",
              "      <td>2012.917</td>\n",
              "      <td>32.0</td>\n",
              "      <td>84.87882</td>\n",
              "      <td>10</td>\n",
              "      <td>24.98298</td>\n",
              "      <td>121.54024</td>\n",
              "      <td>37.9</td>\n",
              "    </tr>\n",
              "    <tr>\n",
              "      <th>2</th>\n",
              "      <td>2012.917</td>\n",
              "      <td>19.5</td>\n",
              "      <td>306.59470</td>\n",
              "      <td>9</td>\n",
              "      <td>24.98034</td>\n",
              "      <td>121.53951</td>\n",
              "      <td>42.2</td>\n",
              "    </tr>\n",
              "    <tr>\n",
              "      <th>3</th>\n",
              "      <td>2013.583</td>\n",
              "      <td>13.3</td>\n",
              "      <td>561.98450</td>\n",
              "      <td>5</td>\n",
              "      <td>24.98746</td>\n",
              "      <td>121.54391</td>\n",
              "      <td>47.3</td>\n",
              "    </tr>\n",
              "    <tr>\n",
              "      <th>4</th>\n",
              "      <td>2013.500</td>\n",
              "      <td>13.3</td>\n",
              "      <td>561.98450</td>\n",
              "      <td>5</td>\n",
              "      <td>24.98746</td>\n",
              "      <td>121.54391</td>\n",
              "      <td>54.8</td>\n",
              "    </tr>\n",
              "    <tr>\n",
              "      <th>5</th>\n",
              "      <td>2012.833</td>\n",
              "      <td>5.0</td>\n",
              "      <td>390.56840</td>\n",
              "      <td>5</td>\n",
              "      <td>24.97937</td>\n",
              "      <td>121.54245</td>\n",
              "      <td>43.1</td>\n",
              "    </tr>\n",
              "  </tbody>\n",
              "</table>\n",
              "</div>\n",
              "      <button class=\"colab-df-convert\" onclick=\"convertToInteractive('df-c7304dce-5c47-4d6c-8d9a-386d98d247c5')\"\n",
              "              title=\"Convert this dataframe to an interactive table.\"\n",
              "              style=\"display:none;\">\n",
              "        \n",
              "  <svg xmlns=\"http://www.w3.org/2000/svg\" height=\"24px\"viewBox=\"0 0 24 24\"\n",
              "       width=\"24px\">\n",
              "    <path d=\"M0 0h24v24H0V0z\" fill=\"none\"/>\n",
              "    <path d=\"M18.56 5.44l.94 2.06.94-2.06 2.06-.94-2.06-.94-.94-2.06-.94 2.06-2.06.94zm-11 1L8.5 8.5l.94-2.06 2.06-.94-2.06-.94L8.5 2.5l-.94 2.06-2.06.94zm10 10l.94 2.06.94-2.06 2.06-.94-2.06-.94-.94-2.06-.94 2.06-2.06.94z\"/><path d=\"M17.41 7.96l-1.37-1.37c-.4-.4-.92-.59-1.43-.59-.52 0-1.04.2-1.43.59L10.3 9.45l-7.72 7.72c-.78.78-.78 2.05 0 2.83L4 21.41c.39.39.9.59 1.41.59.51 0 1.02-.2 1.41-.59l7.78-7.78 2.81-2.81c.8-.78.8-2.07 0-2.86zM5.41 20L4 18.59l7.72-7.72 1.47 1.35L5.41 20z\"/>\n",
              "  </svg>\n",
              "      </button>\n",
              "      \n",
              "  <style>\n",
              "    .colab-df-container {\n",
              "      display:flex;\n",
              "      flex-wrap:wrap;\n",
              "      gap: 12px;\n",
              "    }\n",
              "\n",
              "    .colab-df-convert {\n",
              "      background-color: #E8F0FE;\n",
              "      border: none;\n",
              "      border-radius: 50%;\n",
              "      cursor: pointer;\n",
              "      display: none;\n",
              "      fill: #1967D2;\n",
              "      height: 32px;\n",
              "      padding: 0 0 0 0;\n",
              "      width: 32px;\n",
              "    }\n",
              "\n",
              "    .colab-df-convert:hover {\n",
              "      background-color: #E2EBFA;\n",
              "      box-shadow: 0px 1px 2px rgba(60, 64, 67, 0.3), 0px 1px 3px 1px rgba(60, 64, 67, 0.15);\n",
              "      fill: #174EA6;\n",
              "    }\n",
              "\n",
              "    [theme=dark] .colab-df-convert {\n",
              "      background-color: #3B4455;\n",
              "      fill: #D2E3FC;\n",
              "    }\n",
              "\n",
              "    [theme=dark] .colab-df-convert:hover {\n",
              "      background-color: #434B5C;\n",
              "      box-shadow: 0px 1px 3px 1px rgba(0, 0, 0, 0.15);\n",
              "      filter: drop-shadow(0px 1px 2px rgba(0, 0, 0, 0.3));\n",
              "      fill: #FFFFFF;\n",
              "    }\n",
              "  </style>\n",
              "\n",
              "      <script>\n",
              "        const buttonEl =\n",
              "          document.querySelector('#df-c7304dce-5c47-4d6c-8d9a-386d98d247c5 button.colab-df-convert');\n",
              "        buttonEl.style.display =\n",
              "          google.colab.kernel.accessAllowed ? 'block' : 'none';\n",
              "\n",
              "        async function convertToInteractive(key) {\n",
              "          const element = document.querySelector('#df-c7304dce-5c47-4d6c-8d9a-386d98d247c5');\n",
              "          const dataTable =\n",
              "            await google.colab.kernel.invokeFunction('convertToInteractive',\n",
              "                                                     [key], {});\n",
              "          if (!dataTable) return;\n",
              "\n",
              "          const docLinkHtml = 'Like what you see? Visit the ' +\n",
              "            '<a target=\"_blank\" href=https://colab.research.google.com/notebooks/data_table.ipynb>data table notebook</a>'\n",
              "            + ' to learn more about interactive tables.';\n",
              "          element.innerHTML = '';\n",
              "          dataTable['output_type'] = 'display_data';\n",
              "          await google.colab.output.renderOutput(dataTable, element);\n",
              "          const docLink = document.createElement('div');\n",
              "          docLink.innerHTML = docLinkHtml;\n",
              "          element.appendChild(docLink);\n",
              "        }\n",
              "      </script>\n",
              "    </div>\n",
              "  </div>\n",
              "  "
            ]
          },
          "metadata": {},
          "execution_count": 4
        }
      ]
    },
    {
      "cell_type": "code",
      "source": [
        "x_values = ['X1 transaction date',\n",
        "            'X2 house age',\n",
        "            'X3 distance to the nearest MRT station',\n",
        "            'X4 number of convenience stores',\n",
        "            'X5 latitude',\n",
        "            'X6 longitude']\n",
        "# This part below cleans the data and eliminates anomalies\n",
        "for col in x_values:\n",
        "  mean = df[col].mean()\n",
        "  sd = df[col].std()\n",
        "  df = df[(df[col] <= mean+(3*sd))]\n",
        "train_ds = df.sample(frac=0.8, random_state=0)\n",
        "test_ds = df.drop(train_ds.index)"
      ],
      "metadata": {
        "id": "H8qVsP5CcqQs"
      },
      "execution_count": null,
      "outputs": []
    },
    {
      "cell_type": "code",
      "source": [
        "fig, axs = plt.subplots(ncols=6, figsize=(30, 6))\n",
        "for i in range(6):\n",
        "  axs[i].scatter(train_ds[x_values[i]], train_ds['Y house price of unit area'])\n",
        "  axs[i].set_xlabel(x_values[i])\n",
        "  axs[i].set_ylabel('Y house price of unit area')\n",
        "plt.show()"
      ],
      "metadata": {
        "colab": {
          "base_uri": "https://localhost:8080/",
          "height": 177
        },
        "id": "DnaZYS1OgLbv",
        "outputId": "2bc210ff-7a7f-4453-df66-1cc4fc182bb0"
      },
      "execution_count": null,
      "outputs": [
        {
          "output_type": "display_data",
          "data": {
            "text/plain": [
              "<Figure size 2160x432 with 6 Axes>"
            ],
            "image/png": "[encoded data removed]"
          },
          "metadata": {
            "needs_background": "light"
          }
        }
      ]
    },
    {
      "cell_type": "markdown",
      "source": [
        "We are testing the data with the house price so that is why *train_labels* and *test_labels* are the house price."
      ],
      "metadata": {
        "id": "FDA-5cwWJwNO"
      }
    },
    {
      "cell_type": "code",
      "source": [
        "train_features = train_ds.copy()\n",
        "test_features = test_ds.copy()\n",
        "\n",
        "train_labels = train_features.pop('Y house price of unit area')\n",
        "test_labels = test_features.pop('Y house price of unit area')"
      ],
      "metadata": {
        "id": "dboJmT8dHjjs"
      },
      "execution_count": null,
      "outputs": []
    },
    {
      "cell_type": "markdown",
      "source": [
        "Graph 3 stands out as a graph that could use linear regression to predict house prices the most, however we will use graph 5 to show how using multiple variables can be beneficial as there could be lots of variables to a dataset."
      ],
      "metadata": {
        "id": "5XfKFpQnHWqZ"
      }
    },
    {
      "cell_type": "code",
      "source": [
        "nearest_station = np.array(train_features['X5 latitude'])\n",
        "normalizer = layers.Normalization(input_shape=[1,], axis=None)\n",
        "normalizer.adapt(nearest_station)"
      ],
      "metadata": {
        "id": "axSgGX67NpVn"
      },
      "execution_count": null,
      "outputs": []
    },
    {
      "cell_type": "markdown",
      "source": [
        "## linear regression"
      ],
      "metadata": {
        "id": "wYHPpCbvNqkM"
      }
    },
    {
      "cell_type": "markdown",
      "source": [
        "### Building the model"
      ],
      "metadata": {
        "id": "8lGEDEtXOTIb"
      }
    },
    {
      "cell_type": "code",
      "source": [
        "linear_model = keras.Sequential([\n",
        "    normalizer,\n",
        "    layers.Dense(units=1)\n",
        "])\n",
        "linear_model.summary()"
      ],
      "metadata": {
        "colab": {
          "base_uri": "https://localhost:8080/"
        },
        "id": "x2rwU103OUWO",
        "outputId": "7f206c75-a3e3-43a1-984c-8cec0e3ad6e1"
      },
      "execution_count": null,
      "outputs": [
        {
          "output_type": "stream",
          "name": "stdout",
          "text": [
            "Model: \"sequential\"\n",
            "_________________________________________________________________\n",
            " Layer (type)                Output Shape              Param #   \n",
            "=================================================================\n",
            " normalization (Normalizatio  (None, 1)                3         \n",
            " n)                                                              \n",
            "                                                                 \n",
            " dense (Dense)               (None, 1)                 2         \n",
            "                                                                 \n",
            "=================================================================\n",
            "Total params: 5\n",
            "Trainable params: 2\n",
            "Non-trainable params: 3\n",
            "_________________________________________________________________\n"
          ]
        }
      ]
    },
    {
      "cell_type": "markdown",
      "source": [
        "### Compiling the model"
      ],
      "metadata": {
        "id": "Rqu6RGn9FAxv"
      }
    },
    {
      "cell_type": "code",
      "source": [
        "linear_model.compile(\n",
        "    optimizer=keras.optimizers.Adam(learning_rate=0.1),\n",
        "    loss='mean_absolute_error')"
      ],
      "metadata": {
        "id": "U6kkqXbAO8vQ"
      },
      "execution_count": null,
      "outputs": []
    },
    {
      "cell_type": "markdown",
      "source": [
        "### Training the model"
      ],
      "metadata": {
        "id": "3hHYbyS6FDEp"
      }
    },
    {
      "cell_type": "code",
      "source": [
        "history = linear_model.fit(\n",
        "    train_features['X5 latitude'],\n",
        "    train_labels,\n",
        "    epochs=100,\n",
        "    verbose=0,\n",
        "    validation_split=0.2)"
      ],
      "metadata": {
        "id": "MMZFf5ncPt7w"
      },
      "execution_count": null,
      "outputs": []
    },
    {
      "cell_type": "markdown",
      "source": [
        "### Plotting graphs"
      ],
      "metadata": {
        "id": "8POHzU5yGhzI"
      }
    },
    {
      "cell_type": "code",
      "source": [
        "plot_loss(history)"
      ],
      "metadata": {
        "colab": {
          "base_uri": "https://localhost:8080/",
          "height": 283
        },
        "id": "OXe8bxF6RVZ_",
        "outputId": "9c3f103a-2f40-49a0-ed3a-4149d8ddb696"
      },
      "execution_count": null,
      "outputs": [
        {
          "output_type": "display_data",
          "data": {
            "text/plain": [
              "<Figure size 432x288 with 1 Axes>"
            ],
            "image/png": "[encoded data removed]"
          },
          "metadata": {
            "needs_background": "light"
          }
        }
      ]
    },
    {
      "cell_type": "code",
      "source": [
        "plot_predictions(linear_model)"
      ],
      "metadata": {
        "colab": {
          "base_uri": "https://localhost:8080/",
          "height": 279
        },
        "id": "3mmI7LSQSXed",
        "outputId": "038afa0d-018e-4bea-fbd4-6f8c28df4819"
      },
      "execution_count": null,
      "outputs": [
        {
          "output_type": "display_data",
          "data": {
            "text/plain": [
              "<Figure size 432x288 with 1 Axes>"
            ],
            "image/png": "[encoded data removed]"
          },
          "metadata": {
            "needs_background": "light"
          }
        }
      ]
    },
    {
      "cell_type": "markdown",
      "source": [
        "storing the results for later"
      ],
      "metadata": {
        "id": "ADJBlJjNFnM5"
      }
    },
    {
      "cell_type": "code",
      "source": [
        "test_results = {}\n",
        "test_results['linear_model'] = linear_model.evaluate(\n",
        "    test_features['X5 latitude'], test_labels,\n",
        "     verbose=0)"
      ],
      "metadata": {
        "id": "QLFt9dzTZq2e"
      },
      "execution_count": null,
      "outputs": []
    },
    {
      "cell_type": "markdown",
      "source": [
        "## Regression with a DNN"
      ],
      "metadata": {
        "id": "1mKcIKSKX0Ch"
      }
    },
    {
      "cell_type": "markdown",
      "source": [
        "### Creating the model"
      ],
      "metadata": {
        "id": "U0M0FjeFGD0a"
      }
    },
    {
      "cell_type": "code",
      "source": [
        "dnn_model = keras.Sequential([\n",
        "    normalizer,\n",
        "    layers.Dense(64, activation='relu'),\n",
        "    layers.Dense(64, activation='relu'),\n",
        "    layers.Dense(1)\n",
        "])"
      ],
      "metadata": {
        "id": "aEUoTHsdX1qN"
      },
      "execution_count": null,
      "outputs": []
    },
    {
      "cell_type": "markdown",
      "source": [
        "### Compiling the model"
      ],
      "metadata": {
        "id": "RUi6oBMfGHCr"
      }
    },
    {
      "cell_type": "code",
      "source": [
        "dnn_model.compile(\n",
        "    optimizer = keras.optimizers.Adam(),\n",
        "    loss='mean_absolute_error'\n",
        ")"
      ],
      "metadata": {
        "id": "zsUEL1yUYZx5"
      },
      "execution_count": null,
      "outputs": []
    },
    {
      "cell_type": "markdown",
      "source": [
        "### Training the model"
      ],
      "metadata": {
        "id": "o0h8LZgJGJ7l"
      }
    },
    {
      "cell_type": "code",
      "source": [
        "history = dnn_model.fit(\n",
        "    train_features['X5 latitude'],\n",
        "    train_labels,\n",
        "    validation_split=0.2,\n",
        "    verbose=0,\n",
        "    epochs=100\n",
        ")"
      ],
      "metadata": {
        "id": "0h8DIlhDYu61"
      },
      "execution_count": null,
      "outputs": []
    },
    {
      "cell_type": "markdown",
      "source": [
        "### plotting graphs"
      ],
      "metadata": {
        "id": "dhT9AmS2a5KL"
      }
    },
    {
      "cell_type": "code",
      "source": [
        "plot_loss(history)"
      ],
      "metadata": {
        "colab": {
          "base_uri": "https://localhost:8080/",
          "height": 283
        },
        "id": "rPmHu2fdZ66D",
        "outputId": "688c746d-cb0c-415f-a799-c712773894c7"
      },
      "execution_count": null,
      "outputs": [
        {
          "output_type": "display_data",
          "data": {
            "text/plain": [
              "<Figure size 432x288 with 1 Axes>"
            ],
            "image/png": "[encoded data removed]"
          },
          "metadata": {
            "needs_background": "light"
          }
        }
      ]
    },
    {
      "cell_type": "code",
      "source": [
        "plot_predictions(dnn_model)"
      ],
      "metadata": {
        "colab": {
          "base_uri": "https://localhost:8080/",
          "height": 279
        },
        "id": "hEz6aeb1a1Up",
        "outputId": "10cbc77a-40ca-4851-a508-70579ef4aa5c"
      },
      "execution_count": null,
      "outputs": [
        {
          "output_type": "display_data",
          "data": {
            "text/plain": [
              "<Figure size 432x288 with 1 Axes>"
            ],
            "image/png": "[encoded data removed]"
          },
          "metadata": {
            "needs_background": "light"
          }
        }
      ]
    },
    {
      "cell_type": "markdown",
      "source": [
        "storing the test results for later"
      ],
      "metadata": {
        "id": "IXPP_SI1bPdz"
      }
    },
    {
      "cell_type": "code",
      "source": [
        "test_results['dnn_model'] = dnn_model.evaluate(\n",
        "    test_features['X5 latitude'], test_labels,\n",
        "    verbose=0\n",
        ")"
      ],
      "metadata": {
        "id": "hEsARs-KbO9G"
      },
      "execution_count": null,
      "outputs": []
    },
    {
      "cell_type": "markdown",
      "source": [
        "## Regression with multiple variables"
      ],
      "metadata": {
        "id": "IiRw0nVseiNb"
      }
    },
    {
      "cell_type": "markdown",
      "source": [
        "Normalizing the data by allowing 6 different x variables worth of data to be used in the model."
      ],
      "metadata": {
        "id": "JAppoGqgHBP1"
      }
    },
    {
      "cell_type": "code",
      "source": [
        "features = np.array(train_features)\n",
        "normalizer = layers.Normalization(input_shape=[6,], axis=None)\n",
        "normalizer.adapt(features)"
      ],
      "metadata": {
        "id": "s23LIrSrdzfN"
      },
      "execution_count": null,
      "outputs": []
    },
    {
      "cell_type": "markdown",
      "source": [
        "### Creating the linear model"
      ],
      "metadata": {
        "id": "5xCek2cXG9xs"
      }
    },
    {
      "cell_type": "code",
      "source": [
        "multiple_linear_model = tf.keras.Sequential([\n",
        "    normalizer,\n",
        "    layers.Dense(units=1)\n",
        "])"
      ],
      "metadata": {
        "id": "uCVGDOChe3Fo"
      },
      "execution_count": null,
      "outputs": []
    },
    {
      "cell_type": "markdown",
      "source": [
        "### Compiling the linear model"
      ],
      "metadata": {
        "id": "aDDtVBJMGzs7"
      }
    },
    {
      "cell_type": "code",
      "source": [
        "multiple_linear_model.compile(\n",
        "    optimizer=tf.keras.optimizers.Adam(learning_rate=0.1),\n",
        "    loss='mean_absolute_error')"
      ],
      "metadata": {
        "id": "_UNtSVHFe_9W"
      },
      "execution_count": null,
      "outputs": []
    },
    {
      "cell_type": "markdown",
      "source": [
        "### Training the data"
      ],
      "metadata": {
        "id": "GRWYh4gAG48V"
      }
    },
    {
      "cell_type": "code",
      "source": [
        "history = multiple_linear_model.fit(\n",
        "    train_features,\n",
        "    train_labels,\n",
        "    validation_split=0.2,\n",
        "    verbose=0,\n",
        "    epochs=100\n",
        ")"
      ],
      "metadata": {
        "id": "mRGb4YByfCX_"
      },
      "execution_count": null,
      "outputs": []
    },
    {
      "cell_type": "markdown",
      "source": [
        "Storing the test results for later."
      ],
      "metadata": {
        "id": "iZLSJp4yHW7D"
      }
    },
    {
      "cell_type": "code",
      "source": [
        "test_results['multiple_linear_model'] = multiple_linear_model.evaluate(\n",
        "    test_features, test_labels, verbose=0)"
      ],
      "metadata": {
        "id": "3E9_TazBfJTQ"
      },
      "execution_count": null,
      "outputs": []
    },
    {
      "cell_type": "markdown",
      "source": [
        "### Creating the dnn model"
      ],
      "metadata": {
        "id": "aBFXMlmVHZe1"
      }
    },
    {
      "cell_type": "code",
      "source": [
        "multiple_dnn_model = keras.Sequential([\n",
        "    normalizer,\n",
        "    layers.Dense(64, activation='relu'),\n",
        "    layers.Dense(64, activation='relu'),\n",
        "    layers.Dense(1)\n",
        "])"
      ],
      "metadata": {
        "id": "OUQLeclyfKt1"
      },
      "execution_count": null,
      "outputs": []
    },
    {
      "cell_type": "markdown",
      "source": [
        "### Compiling the dnn model"
      ],
      "metadata": {
        "id": "y-6f0fHOHfNx"
      }
    },
    {
      "cell_type": "code",
      "source": [
        "multiple_dnn_model.compile(\n",
        "    optimizer=tf.keras.optimizers.Adam(),\n",
        "    loss='mean_absolute_error')"
      ],
      "metadata": {
        "id": "ikBvX5AtffJo"
      },
      "execution_count": null,
      "outputs": []
    },
    {
      "cell_type": "markdown",
      "source": [
        "### Training the dnn model"
      ],
      "metadata": {
        "id": "JfOs-HSSHjGu"
      }
    },
    {
      "cell_type": "code",
      "source": [
        "history = multiple_dnn_model.fit(\n",
        "    train_features,\n",
        "    train_labels,\n",
        "    validation_split=0.2,\n",
        "    verbose=0,\n",
        "    epochs=100\n",
        ")"
      ],
      "metadata": {
        "id": "J2DqkbsEfh8D"
      },
      "execution_count": null,
      "outputs": []
    },
    {
      "cell_type": "markdown",
      "source": [
        "Storing the test results for later."
      ],
      "metadata": {
        "id": "iWW22rnQHmjk"
      }
    },
    {
      "cell_type": "code",
      "source": [
        "test_results['multiple_dnn_model'] = multiple_dnn_model.evaluate(\n",
        "    test_features, test_labels, verbose=0)"
      ],
      "metadata": {
        "id": "40vIhu55fgKz"
      },
      "execution_count": null,
      "outputs": []
    },
    {
      "cell_type": "markdown",
      "source": [
        "## Results"
      ],
      "metadata": {
        "id": "StVsivaHFyMP"
      }
    },
    {
      "cell_type": "markdown",
      "source": [
        "Here the results are better when using multiple variables because there is a set of data that is better at prediciting house price using a different x value. This set of data is X3 being the distance to the next MRT station."
      ],
      "metadata": {
        "id": "3Q32RkgtIlSs"
      }
    },
    {
      "cell_type": "code",
      "source": [
        "pd.DataFrame(test_results, index=['Mean absolute error [Price]']).T"
      ],
      "metadata": {
        "colab": {
          "base_uri": "https://localhost:8080/",
          "height": 173
        },
        "id": "amHaRtSbcBrq",
        "outputId": "fbbf6b82-5897-4754-eded-78005f49f784"
      },
      "execution_count": null,
      "outputs": [
        {
          "output_type": "execute_result",
          "data": {
            "text/plain": [
              "                       Mean absolute error [Price]\n",
              "linear_model                              9.163721\n",
              "dnn_model                                 9.084592\n",
              "multiple_linear_model                     8.131392\n",
              "multiple_dnn_model                        7.183463"
            ],
            "text/html": [
              "\n",
              "  <div id=\"df-8c6bde84-634d-4770-b4bd-0ec4a2999126\">\n",
              "    <div class=\"colab-df-container\">\n",
              "      <div>\n",
              "<style scoped>\n",
              "    .dataframe tbody tr th:only-of-type {\n",
              "        vertical-align: middle;\n",
              "    }\n",
              "\n",
              "    .dataframe tbody tr th {\n",
              "        vertical-align: top;\n",
              "    }\n",
              "\n",
              "    .dataframe thead th {\n",
              "        text-align: right;\n",
              "    }\n",
              "</style>\n",
              "<table border=\"1\" class=\"dataframe\">\n",
              "  <thead>\n",
              "    <tr style=\"text-align: right;\">\n",
              "      <th></th>\n",
              "      <th>Mean absolute error [Price]</th>\n",
              "    </tr>\n",
              "  </thead>\n",
              "  <tbody>\n",
              "    <tr>\n",
              "      <th>linear_model</th>\n",
              "      <td>9.163721</td>\n",
              "    </tr>\n",
              "    <tr>\n",
              "      <th>dnn_model</th>\n",
              "      <td>9.084592</td>\n",
              "    </tr>\n",
              "    <tr>\n",
              "      <th>multiple_linear_model</th>\n",
              "      <td>8.131392</td>\n",
              "    </tr>\n",
              "    <tr>\n",
              "      <th>multiple_dnn_model</th>\n",
              "      <td>7.183463</td>\n",
              "    </tr>\n",
              "  </tbody>\n",
              "</table>\n",
              "</div>\n",
              "      <button class=\"colab-df-convert\" onclick=\"convertToInteractive('df-8c6bde84-634d-4770-b4bd-0ec4a2999126')\"\n",
              "              title=\"Convert this dataframe to an interactive table.\"\n",
              "              style=\"display:none;\">\n",
              "        \n",
              "  <svg xmlns=\"http://www.w3.org/2000/svg\" height=\"24px\"viewBox=\"0 0 24 24\"\n",
              "       width=\"24px\">\n",
              "    <path d=\"M0 0h24v24H0V0z\" fill=\"none\"/>\n",
              "    <path d=\"M18.56 5.44l.94 2.06.94-2.06 2.06-.94-2.06-.94-.94-2.06-.94 2.06-2.06.94zm-11 1L8.5 8.5l.94-2.06 2.06-.94-2.06-.94L8.5 2.5l-.94 2.06-2.06.94zm10 10l.94 2.06.94-2.06 2.06-.94-2.06-.94-.94-2.06-.94 2.06-2.06.94z\"/><path d=\"M17.41 7.96l-1.37-1.37c-.4-.4-.92-.59-1.43-.59-.52 0-1.04.2-1.43.59L10.3 9.45l-7.72 7.72c-.78.78-.78 2.05 0 2.83L4 21.41c.39.39.9.59 1.41.59.51 0 1.02-.2 1.41-.59l7.78-7.78 2.81-2.81c.8-.78.8-2.07 0-2.86zM5.41 20L4 18.59l7.72-7.72 1.47 1.35L5.41 20z\"/>\n",
              "  </svg>\n",
              "      </button>\n",
              "      \n",
              "  <style>\n",
              "    .colab-df-container {\n",
              "      display:flex;\n",
              "      flex-wrap:wrap;\n",
              "      gap: 12px;\n",
              "    }\n",
              "\n",
              "    .colab-df-convert {\n",
              "      background-color: #E8F0FE;\n",
              "      border: none;\n",
              "      border-radius: 50%;\n",
              "      cursor: pointer;\n",
              "      display: none;\n",
              "      fill: #1967D2;\n",
              "      height: 32px;\n",
              "      padding: 0 0 0 0;\n",
              "      width: 32px;\n",
              "    }\n",
              "\n",
              "    .colab-df-convert:hover {\n",
              "      background-color: #E2EBFA;\n",
              "      box-shadow: 0px 1px 2px rgba(60, 64, 67, 0.3), 0px 1px 3px 1px rgba(60, 64, 67, 0.15);\n",
              "      fill: #174EA6;\n",
              "    }\n",
              "\n",
              "    [theme=dark] .colab-df-convert {\n",
              "      background-color: #3B4455;\n",
              "      fill: #D2E3FC;\n",
              "    }\n",
              "\n",
              "    [theme=dark] .colab-df-convert:hover {\n",
              "      background-color: #434B5C;\n",
              "      box-shadow: 0px 1px 3px 1px rgba(0, 0, 0, 0.15);\n",
              "      filter: drop-shadow(0px 1px 2px rgba(0, 0, 0, 0.3));\n",
              "      fill: #FFFFFF;\n",
              "    }\n",
              "  </style>\n",
              "\n",
              "      <script>\n",
              "        const buttonEl =\n",
              "          document.querySelector('#df-8c6bde84-634d-4770-b4bd-0ec4a2999126 button.colab-df-convert');\n",
              "        buttonEl.style.display =\n",
              "          google.colab.kernel.accessAllowed ? 'block' : 'none';\n",
              "\n",
              "        async function convertToInteractive(key) {\n",
              "          const element = document.querySelector('#df-8c6bde84-634d-4770-b4bd-0ec4a2999126');\n",
              "          const dataTable =\n",
              "            await google.colab.kernel.invokeFunction('convertToInteractive',\n",
              "                                                     [key], {});\n",
              "          if (!dataTable) return;\n",
              "\n",
              "          const docLinkHtml = 'Like what you see? Visit the ' +\n",
              "            '<a target=\"_blank\" href=https://colab.research.google.com/notebooks/data_table.ipynb>data table notebook</a>'\n",
              "            + ' to learn more about interactive tables.';\n",
              "          element.innerHTML = '';\n",
              "          dataTable['output_type'] = 'display_data';\n",
              "          await google.colab.output.renderOutput(dataTable, element);\n",
              "          const docLink = document.createElement('div');\n",
              "          docLink.innerHTML = docLinkHtml;\n",
              "          element.appendChild(docLink);\n",
              "        }\n",
              "      </script>\n",
              "    </div>\n",
              "  </div>\n",
              "  "
            ]
          },
          "metadata": {},
          "execution_count": 30
        }
      ]
    }
  ]
}