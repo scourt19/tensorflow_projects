{
  "nbformat": 4,
  "nbformat_minor": 0,
  "metadata": {
    "colab": {
      "provenance": []
    },
    "kernelspec": {
      "name": "python3",
      "display_name": "Python 3"
    },
    "language_info": {
      "name": "python"
    },
    "accelerator": "GPU",
    "gpuClass": "standard"
  },
  "cells": [
    {
      "cell_type": "markdown",
      "source": [
        "## Text classifications using a RNN\n",
        "Using a subset of news articles from AG i have created a **RNN** to predict the classes that the news articles are in."
      ],
      "metadata": {
        "id": "JPWay3__wEDQ"
      }
    },
    {
      "cell_type": "code",
      "execution_count": null,
      "metadata": {
        "id": "KV81KJe3BEmU"
      },
      "outputs": [],
      "source": [
        "import numpy as np\n",
        "import tensorflow_datasets as tfds\n",
        "import tensorflow as tf\n",
        "from tensorflow import keras\n",
        "import matplotlib.pyplot as plt"
      ]
    },
    {
      "cell_type": "markdown",
      "source": [
        "### Input pipeline\n",
        "Downloading the dataset into a train and test dataset."
      ],
      "metadata": {
        "id": "t4WfxeAp4Tn2"
      }
    },
    {
      "cell_type": "code",
      "source": [
        "dataset, metadata = tfds.load('ag_news_subset', with_info=True, as_supervised=True)\n",
        "train_ds, test_ds = dataset['train'], dataset['test']"
      ],
      "metadata": {
        "id": "HnBSLOmUx5qL"
      },
      "execution_count": null,
      "outputs": []
    },
    {
      "cell_type": "markdown",
      "source": [
        "Shuffling and batching the data."
      ],
      "metadata": {
        "id": "eL41dFgO4w6k"
      }
    },
    {
      "cell_type": "code",
      "source": [
        "BUFFER_SIZE = 10000\n",
        "BATCH_SIZE = 64\n",
        "train_batch = train_ds.shuffle(BUFFER_SIZE).batch(BATCH_SIZE).prefetch(tf.data.AUTOTUNE)\n",
        "test_batch = test_ds.batch(BATCH_SIZE).prefetch(tf.data.AUTOTUNE)"
      ],
      "metadata": {
        "id": "00uVazxh4dVA"
      },
      "execution_count": null,
      "outputs": []
    },
    {
      "cell_type": "code",
      "source": [
        "for description, label in train_batch.take(5):\n",
        "  print('description: ', description.numpy()[1])\n",
        "  print('label: ', label.numpy()[1])"
      ],
      "metadata": {
        "colab": {
          "base_uri": "https://localhost:8080/"
        },
        "id": "R_ID2gJWCTIQ",
        "outputId": "c99aa651-c6fd-428d-9a64-1d9491eb1294"
      },
      "execution_count": null,
      "outputs": [
        {
          "output_type": "stream",
          "name": "stdout",
          "text": [
            "description:  b\"Congress drafts two bills to implement the 9/11 Commission's recommendations. Critics say neither has adequate privacy or civil liberties safeguards, but the House version includes a litany of assaults on individuals' rights. By Ryan Singel.\"\n",
            "label:  3\n",
            "description:  b'Reuters - Media giant Time Warner Inc. \\\\will pay fines of  #36;210 million under an agreement with the U.S.\\\\government to be announced on Wednesday to settle charges that\\\\its America Online unit inflated revenue, a Justice Department\\\\official said.'\n",
            "label:  2\n",
            "description:  b'ANKARA - The European Union (EU) Commissioner, Enlargement, Guenter Verheugen arrived in Ankara late on Sunday. Speaking to reporters at Ankara #39;s Esenboga Airport, Verheugen said that his visit to Turkey was '\n",
            "label:  0\n",
            "description:  b'PORTLAND, Ore. - It\\'s been almost a year since singer-songwriter Elliott Smith committed suicide, and fans and friends will be looking for answers as the posthumous \"From a Basement on the Hill\" is released...'\n",
            "label:  0\n",
            "description:  b'BEA Systems at the ApacheCon conference in Las Vegas on Monday is adding the Jonas and Geronimo application servers as platforms supporting the Project Beehive open source development initiative.'\n",
            "label:  3\n"
          ]
        }
      ]
    },
    {
      "cell_type": "markdown",
      "source": [
        "### Creating the text encoder"
      ],
      "metadata": {
        "id": "tN-7j2da5ga9"
      }
    },
    {
      "cell_type": "code",
      "source": [
        "VOCAB_SIZE = 1000\n",
        "encoder = tf.keras.layers.TextVectorization(max_tokens=VOCAB_SIZE)\n",
        "encoder.adapt(train_batch.map(lambda text, label: text))"
      ],
      "metadata": {
        "id": "H5twBYr15zJR"
      },
      "execution_count": null,
      "outputs": []
    },
    {
      "cell_type": "markdown",
      "source": [
        "The **.adapt** method sets the layers vocabulary here are the first 20 words sorted by frequency."
      ],
      "metadata": {
        "id": "uNx7aGop_FkA"
      }
    },
    {
      "cell_type": "code",
      "source": [
        "vocab = np.array(encoder.get_vocabulary())\n",
        "vocab[:20]"
      ],
      "metadata": {
        "colab": {
          "base_uri": "https://localhost:8080/"
        },
        "id": "E3S5nbYB7K1j",
        "outputId": "191eff66-f855-4641-e960-f1dd147f8088"
      },
      "execution_count": null,
      "outputs": [
        {
          "output_type": "execute_result",
          "data": {
            "text/plain": [
              "array(['', '[UNK]', 'the', 'a', 'to', 'of', 'in', 'and', 'on', 'for',\n",
              "       'that', '39s', 'with', 'as', 'its', 'at', 'is', 'said', 'by', 'it'],\n",
              "      dtype='<U14')"
            ]
          },
          "metadata": {},
          "execution_count": 6
        }
      ]
    },
    {
      "cell_type": "code",
      "source": [
        "encoded_example = encoder(description)[:3].numpy()\n",
        "encoded_example"
      ],
      "metadata": {
        "colab": {
          "base_uri": "https://localhost:8080/"
        },
        "id": "2M603ysc7tIn",
        "outputId": "68ffb4e0-3eb7-4baa-e2f4-43306f66ecaa"
      },
      "execution_count": null,
      "outputs": [
        {
          "output_type": "execute_result",
          "data": {
            "text/plain": [
              "array([[  3,  21,   7,   1,   1,   5, 730,  10,   1,   6,   1,  15,   2,\n",
              "        580,  85,   1, 524,   1,  60,   1,   2,  51,  60,   1,  18, 416,\n",
              "          0,   0,   0,   0,   0,   0,   0,   0,   0,   0,   0,   0,   0,\n",
              "          0,   0,   0,   0,   0,   0,   0,   0,   0,   0,   0,   0,   0,\n",
              "          0,   0,   0,   0,   0,   0,   0,   0,   0,   0,   0,   0,   0,\n",
              "          0,   0],\n",
              "       [  1, 318,  15,   2,   1, 414,   6,   1,   1,   8,  42,  16,   1,\n",
              "          2,   1,   7,   1,   1,   1,  13,   1,   1,   2,   1,   1, 171,\n",
              "        629, 732,   1,   0,   0,   0,   0,   0,   0,   0,   0,   0,   0,\n",
              "          0,   0,   0,   0,   0,   0,   0,   0,   0,   0,   0,   0,   0,\n",
              "          0,   0,   0,   0,   0,   0,   0,   0,   0,   0,   0,   0,   0,\n",
              "          0,   0],\n",
              "       [164,   1, 139,   1,  16, 595,  14, 295,   1,   7,   1,   1,  23,\n",
              "         96,   1,   1,   0,   0,   0,   0,   0,   0,   0,   0,   0,   0,\n",
              "          0,   0,   0,   0,   0,   0,   0,   0,   0,   0,   0,   0,   0,\n",
              "          0,   0,   0,   0,   0,   0,   0,   0,   0,   0,   0,   0,   0,\n",
              "          0,   0,   0,   0,   0,   0,   0,   0,   0,   0,   0,   0,   0,\n",
              "          0,   0]])"
            ]
          },
          "metadata": {},
          "execution_count": 7
        }
      ]
    },
    {
      "cell_type": "markdown",
      "source": [
        "Uses the encoded example to show what is an unkown word."
      ],
      "metadata": {
        "id": "3ZN45wMj_ih7"
      }
    },
    {
      "cell_type": "code",
      "source": [
        "for n in range(3):\n",
        "  print(\"Original: \", description[n].numpy())\n",
        "  print(\"Round-trip: \", \" \".join(vocab[encoded_example[n]]))\n",
        "  print()"
      ],
      "metadata": {
        "colab": {
          "base_uri": "https://localhost:8080/"
        },
        "id": "H0w1GBnN_ppk",
        "outputId": "9780f1d6-a3dd-4ba0-ef9c-c99f42a129bb"
      },
      "execution_count": null,
      "outputs": [
        {
          "output_type": "stream",
          "name": "stdout",
          "text": [
            "Original:  b'A new and tiny species of human that lived in Indonesia at the same time our own ancestors were colonising the world were discovered by scientists.'\n",
            "Round-trip:  a new and [UNK] [UNK] of human that [UNK] in [UNK] at the same time [UNK] own [UNK] were [UNK] the world were [UNK] by scientists                                         \n",
            "\n",
            "Original:  b'BEA Systems at the ApacheCon conference in Las Vegas on Monday is adding the Jonas and Geronimo application servers as platforms supporting the Project Beehive open source development initiative.'\n",
            "Round-trip:  [UNK] systems at the [UNK] conference in [UNK] [UNK] on monday is [UNK] the [UNK] and [UNK] [UNK] [UNK] as [UNK] [UNK] the [UNK] [UNK] open source development [UNK]                                      \n",
            "\n",
            "Original:  b'Online payment service  PayPal is offering its users antifraud and antispam tools from security vendor Cloudmark.'\n",
            "Round-trip:  online [UNK] service [UNK] is offering its users [UNK] and [UNK] [UNK] from security [UNK] [UNK]                                                   \n",
            "\n"
          ]
        }
      ]
    },
    {
      "cell_type": "markdown",
      "source": [
        "### Creating the model"
      ],
      "metadata": {
        "id": "TYmvNtX65pPQ"
      }
    },
    {
      "cell_type": "code",
      "source": [
        "model = keras.Sequential([\n",
        "    encoder,\n",
        "    keras.layers.Embedding(\n",
        "        input_dim=len(encoder.get_vocabulary()),\n",
        "        output_dim=64,\n",
        "        mask_zero=True),\n",
        "    keras.layers.Bidirectional(keras.layers.LSTM(64)),\n",
        "    keras.layers.Dense(64, activation='relu'),\n",
        "    keras.layers.Dense(4)\n",
        "])"
      ],
      "metadata": {
        "id": "V2zeOI4zHq6C"
      },
      "execution_count": null,
      "outputs": []
    },
    {
      "cell_type": "markdown",
      "source": [
        "### Compiling the model"
      ],
      "metadata": {
        "id": "jFsBCOy36bEH"
      }
    },
    {
      "cell_type": "code",
      "source": [
        "model.compile(optimizer='adam',\n",
        "              loss=tf.keras.losses.SparseCategoricalCrossentropy(from_logits=True),\n",
        "              metrics=['accuracy'])"
      ],
      "metadata": {
        "id": "muukq11OI_8r"
      },
      "execution_count": null,
      "outputs": []
    },
    {
      "cell_type": "markdown",
      "source": [
        "### Training the model"
      ],
      "metadata": {
        "id": "v1UsOYcy6fwq"
      }
    },
    {
      "cell_type": "code",
      "source": [
        "EPOCHS = 8\n",
        "history = model.fit(train_batch,\n",
        "                    validation_data=test_batch,\n",
        "                    epochs=EPOCHS)"
      ],
      "metadata": {
        "colab": {
          "base_uri": "https://localhost:8080/"
        },
        "id": "F8kYvKLpJnIB",
        "outputId": "71783a77-e62a-4d43-f006-e2ac2e94a85a"
      },
      "execution_count": null,
      "outputs": [
        {
          "output_type": "stream",
          "name": "stdout",
          "text": [
            "Epoch 1/8\n",
            "1875/1875 [==============================] - 54s 23ms/step - loss: 0.4774 - accuracy: 0.8237 - val_loss: 0.4293 - val_accuracy: 0.8464\n",
            "Epoch 2/8\n",
            "1875/1875 [==============================] - 43s 23ms/step - loss: 0.3982 - accuracy: 0.8544 - val_loss: 0.4071 - val_accuracy: 0.8503\n",
            "Epoch 3/8\n",
            "1875/1875 [==============================] - 42s 22ms/step - loss: 0.3745 - accuracy: 0.8623 - val_loss: 0.3900 - val_accuracy: 0.8612\n",
            "Epoch 4/8\n",
            "1875/1875 [==============================] - 43s 23ms/step - loss: 0.3548 - accuracy: 0.8690 - val_loss: 0.3913 - val_accuracy: 0.8588\n",
            "Epoch 5/8\n",
            "1875/1875 [==============================] - 41s 22ms/step - loss: 0.3366 - accuracy: 0.8758 - val_loss: 0.3818 - val_accuracy: 0.8618\n",
            "Epoch 6/8\n",
            "1875/1875 [==============================] - 45s 24ms/step - loss: 0.3203 - accuracy: 0.8812 - val_loss: 0.3854 - val_accuracy: 0.8658\n",
            "Epoch 7/8\n",
            "1875/1875 [==============================] - 49s 26ms/step - loss: 0.3059 - accuracy: 0.8866 - val_loss: 0.3796 - val_accuracy: 0.8664\n",
            "Epoch 8/8\n",
            "1875/1875 [==============================] - 45s 24ms/step - loss: 0.2910 - accuracy: 0.8918 - val_loss: 0.3884 - val_accuracy: 0.8639\n"
          ]
        }
      ]
    },
    {
      "cell_type": "markdown",
      "source": [
        "### Results"
      ],
      "metadata": {
        "id": "kwvey5jA6k85"
      }
    },
    {
      "cell_type": "markdown",
      "source": [
        "Below is the prediction as to what class the news article belongs to the higher the number the higher the probability that the news article belongs to that class."
      ],
      "metadata": {
        "id": "WGXNJn_d6Ehu"
      }
    },
    {
      "cell_type": "code",
      "source": [
        "sample_text = ('as the confirmed death [UNK] from [UNK] [UNK] in the [UNK] [UNK] to more than [UNK] [UNK] have [UNK] at least four [UNK] from a [UNK] that [UNK] in [UNK] 10 days ago')\n",
        "predictions = model.predict(np.array([sample_text]))\n",
        "print(predictions[0])"
      ],
      "metadata": {
        "colab": {
          "base_uri": "https://localhost:8080/"
        },
        "id": "RxOn8gHNLtQz",
        "outputId": "bd1647a5-6980-4183-a844-230467c6ddd2"
      },
      "execution_count": null,
      "outputs": [
        {
          "output_type": "stream",
          "name": "stdout",
          "text": [
            "[ 2.4403775  -1.3078924  -2.4841704  -0.43770438]\n"
          ]
        }
      ]
    },
    {
      "cell_type": "markdown",
      "source": [
        "Below is a graph to show how the accuracy and loss are affected for botht the according to the amount of epochs that the dataset has been trained on."
      ],
      "metadata": {
        "id": "HjxYX8tygOWW"
      }
    },
    {
      "cell_type": "code",
      "source": [
        "acc = history.history['accuracy']\n",
        "val_acc = history.history['val_accuracy']\n",
        "loss = history.history['loss']\n",
        "val_loss = history.history['val_loss']\n",
        "\n",
        "epochs_range = range(EPOCHS)\n",
        "\n",
        "plt.figure(figsize=(8, 8))\n",
        "plt.subplot(1, 2, 1)\n",
        "plt.ylim(0.8, 0.92)\n",
        "plt.plot(epochs_range, acc, label='Training Accuracy')\n",
        "plt.plot(epochs_range, val_acc, label='Validation Accuracy')\n",
        "plt.legend(loc='lower right')\n",
        "plt.title('Training and Validation Accuaracy')\n",
        "\n",
        "plt.subplot(1, 2, 2)\n",
        "plt.ylim(0.55, 0.25)\n",
        "plt.plot(epochs_range, loss, label='Training Loss')\n",
        "plt.plot(epochs_range, val_loss, label='Validation Loss')\n",
        "plt.legend(loc='upper right')\n",
        "plt.title('Training and Validation Loss')\n",
        "plt.show()"
      ],
      "metadata": {
        "colab": {
          "base_uri": "https://localhost:8080/",
          "height": 499
        },
        "id": "wzXLvOFl264M",
        "outputId": "4afb1b85-b0e0-4efc-b3eb-c84089a33a54"
      },
      "execution_count": null,
      "outputs": [
        {
          "output_type": "display_data",
          "data": {
            "text/plain": [
              "<Figure size 576x576 with 2 Axes>"
            ],
            "image/png": "[encoded data removed]"
          },
          "metadata": {
            "needs_background": "light"
          }
        }
      ]
    }
  ]
}